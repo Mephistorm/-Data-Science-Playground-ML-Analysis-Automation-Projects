{
  "metadata": {
    "kernelspec": {
      "name": "python",
      "display_name": "Python (Pyodide)",
      "language": "python"
    },
    "language_info": {
      "codemirror_mode": {
        "name": "python",
        "version": 3
      },
      "file_extension": ".py",
      "mimetype": "text/x-python",
      "name": "python",
      "nbconvert_exporter": "python",
      "pygments_lexer": "ipython3",
      "version": "3.8"
    }
  },
  "nbformat_minor": 5,
  "nbformat": 4,
  "cells": [
    {
      "id": "b4a6d363-ebcd-4cc6-9227-9294877dc765",
      "cell_type": "markdown",
      "source": "### EXPLORING DATA WITH PYTHON (NUMPY)",
      "metadata": {}
    },
    {
      "id": "a27d4dd3-a096-4a66-b064-ee02a06428ca",
      "cell_type": "code",
      "source": "data = [50,50,47,97,49,3,53,42,26,74,82,62,37,15,70,27,36,35,48,52,63,64]\nprint(data)",
      "metadata": {
        "trusted": true
      },
      "outputs": [
        {
          "name": "stdout",
          "output_type": "stream",
          "text": "[50, 50, 47, 97, 49, 3, 53, 42, 26, 74, 82, 62, 37, 15, 70, 27, 36, 35, 48, 52, 63, 64]\n"
        }
      ],
      "execution_count": 3
    },
    {
      "id": "b1d8822b-6614-4d5a-926f-9968ed4bb0a3",
      "cell_type": "markdown",
      "source": "The data has been loaded into a Python list structure, which is a good data type for general data manipulation, but it's not optimized for numeric analysis. For that, we're going to use the NumPy package, which includes specific data types and functions for working with Numbers in Python.\n\nRun the following cell to load the data into a NumPy array.\n",
      "metadata": {}
    },
    {
      "id": "f8a72806-2a42-4b5c-ae7e-8f7d8aa31f0e",
      "cell_type": "code",
      "source": "import numpy as np\n\ngrades = np.array(data)\nprint(grades)",
      "metadata": {
        "trusted": true
      },
      "outputs": [
        {
          "name": "stdout",
          "output_type": "stream",
          "text": "[50 50 47 97 49  3 53 42 26 74 82 62 37 15 70 27 36 35 48 52 63 64]\n"
        }
      ],
      "execution_count": 4
    },
    {
      "id": "9219e13e-e803-4c78-a282-5efd0ff9510c",
      "cell_type": "code",
      "source": "grades.shape",
      "metadata": {
        "trusted": true
      },
      "outputs": [
        {
          "execution_count": 6,
          "output_type": "execute_result",
          "data": {
            "text/plain": "(22,)"
          },
          "metadata": {}
        }
      ],
      "execution_count": 6
    },
    {
      "id": "f2638148-f813-4dda-b02b-c8def6fc0762",
      "cell_type": "code",
      "source": "grades.mean()",
      "metadata": {
        "trusted": true
      },
      "outputs": [
        {
          "execution_count": 10,
          "output_type": "execute_result",
          "data": {
            "text/plain": "np.float64(49.18181818181818)"
          },
          "metadata": {}
        }
      ],
      "execution_count": 10
    },
    {
      "id": "9e1db04f-99c1-4a9f-ac18-31bcf976b7d3",
      "cell_type": "code",
      "source": "print (type(data),'x 2:', data * 2)\nprint('---')\nprint (type(grades),'x 2:', grades * 2)",
      "metadata": {
        "trusted": true
      },
      "outputs": [
        {
          "name": "stdout",
          "output_type": "stream",
          "text": "<class 'list'> x 2: [50, 50, 47, 97, 49, 3, 53, 42, 26, 74, 82, 62, 37, 15, 70, 27, 36, 35, 48, 52, 63, 64, 50, 50, 47, 97, 49, 3, 53, 42, 26, 74, 82, 62, 37, 15, 70, 27, 36, 35, 48, 52, 63, 64]\n---\n<class 'numpy.ndarray'> x 2: [100 100  94 194  98   6 106  84  52 148 164 124  74  30 140  54  72  70\n  96 104 126 128]\n"
        }
      ],
      "execution_count": 7
    },
    {
      "id": "5705d215-897d-4473-a652-c6b47ef46acd",
      "cell_type": "markdown",
      "source": "Multiplying a list by two creates a new list of twice the length with the original sequence of list elements repeated. Multiplying a NumPy array, on the other hand, performs an element-wise calculation in which the array behaves like a vector, so we end up with an array of the same size in which each element has been multiplied by two.\n\nThe key takeaway from this is that NumPy arrays are specifically designed to support mathematical operations on numeric data, which makes them more useful for data analysis than a generic list.",
      "metadata": {}
    },
    {
      "id": "9b3f2161-0bd6-40df-8e4d-e72e165dec30",
      "cell_type": "code",
      "source": "# Define an array of study hours \nstudy_hours = [10.0,11.5,9.0,16.0,9.25,1.0,11.5,9.0,8.5,14.5,15.5,\n               13.75,9.0,8.0,15.5,8.0,9.0,6.0,10.0,12.0,12.5,12.0]\n\n# Create a 2D array (an array of arrays)\nstudent_data = np.array([study_hours, grades])\n\n# display the array\nstudent_data",
      "metadata": {
        "trusted": true
      },
      "outputs": [
        {
          "execution_count": 14,
          "output_type": "execute_result",
          "data": {
            "text/plain": "array([[10.  , 11.5 ,  9.  , 16.  ,  9.25,  1.  , 11.5 ,  9.  ,  8.5 ,\n        14.5 , 15.5 , 13.75,  9.  ,  8.  , 15.5 ,  8.  ,  9.  ,  6.  ,\n        10.  , 12.  , 12.5 , 12.  ],\n       [50.  , 50.  , 47.  , 97.  , 49.  ,  3.  , 53.  , 42.  , 26.  ,\n        74.  , 82.  , 62.  , 37.  , 15.  , 70.  , 27.  , 36.  , 35.  ,\n        48.  , 52.  , 63.  , 64.  ]])"
          },
          "metadata": {}
        }
      ],
      "execution_count": 14
    },
    {
      "id": "ec672a53-6d1b-426b-8f3b-e42f985f20c6",
      "cell_type": "code",
      "source": "student_data.shape",
      "metadata": {
        "trusted": true
      },
      "outputs": [
        {
          "execution_count": 13,
          "output_type": "execute_result",
          "data": {
            "text/plain": "(2, 22)"
          },
          "metadata": {}
        }
      ],
      "execution_count": 13
    },
    {
      "id": "80373291-5270-4a46-934c-89a8a65df298",
      "cell_type": "code",
      "source": "student_data[0][0]",
      "metadata": {
        "trusted": true
      },
      "outputs": [
        {
          "execution_count": 15,
          "output_type": "execute_result",
          "data": {
            "text/plain": "np.float64(10.0)"
          },
          "metadata": {}
        }
      ],
      "execution_count": 15
    },
    {
      "id": "5def00fa-6e60-4434-bfe7-edc70497a8a2",
      "cell_type": "code",
      "source": "# Get the mean value of each sub-array\navg_study = student_data[0].mean()\navg_grade = student_data[1].mean()\n\nprint('Average study hours:{:.2f}\\nAverage grade:{:.2f}'.format(avg_study,avg_grade))",
      "metadata": {
        "trusted": true
      },
      "outputs": [
        {
          "name": "stdout",
          "output_type": "stream",
          "text": "Average study hours:10.52\nAverage grade:49.18\n"
        }
      ],
      "execution_count": 17
    },
    {
      "id": "32396e6e-b545-433a-832d-6f87dcb5ed2a",
      "cell_type": "markdown",
      "source": "Exploring tabular data with Pandas\n\nNumPy provides a lot of the functionality and tools we need to work with numbers, such as arrays of numeric values. However, when we start to deal with two-dimensional tables of data, the Pandas package offers a more convenient structure to work with: the DataFrame.\n\nExcercise:\nRun the following cell to import the Pandas library and create a DataFrame with three columns. The first column is a list of student names, and the second and third columns are the NumPy arrays containing the study time and grade data.\n",
      "metadata": {}
    },
    {
      "id": "edd6db91-a19f-4ebb-928c-660d40c7bb8d",
      "cell_type": "code",
      "source": "import pandas as pd\n\ndf_students = pd.DataFrame({'Name': ['Dan', 'Joann', 'Pedro', 'Rosie', 'Ethan', 'Vicky', 'Frederic', 'Jimmie', \n                                     'Rhonda', 'Giovanni', 'Francesca', 'Rajab', 'Naiyana', 'Kian', 'Jenny',\n                                     'Jakeem','Helena','Ismat','Anila','Skye','Daniel','Aisha'],\n                            'StudyHours':student_data[0],\n                            'Grade':student_data[1]})\n\ndf_students ",
      "metadata": {
        "trusted": true
      },
      "outputs": [],
      "execution_count": null
    },
    {
      "id": "e4b95303-8224-4ea1-9686-c773423f0fc8",
      "cell_type": "markdown",
      "source": "Finding and filtering data in a DataFrame\n\nWe can use the DataFrame's loc method to retrieve data for a specific index value, like this.",
      "metadata": {}
    },
    {
      "id": "cafacde7-f1f0-451a-b29c-e4a4647ef114",
      "cell_type": "code",
      "source": "# Get the rows with index values from 0 to 5\ndf_students.loc[0:5]",
      "metadata": {
        "trusted": true
      },
      "outputs": [],
      "execution_count": null
    },
    {
      "id": "6abfa3e5-a8f6-4c45-a8e1-a5eb295c27e1",
      "cell_type": "code",
      "source": "# Get data in the first five rows\ndf_students.iloc[0:5]",
      "metadata": {
        "trusted": true
      },
      "outputs": [],
      "execution_count": null
    },
    {
      "id": "05d5cf90-4881-47e6-9d4d-e0873f47ff8d",
      "cell_type": "markdown",
      "source": "Look carefully at the iloc[0:5] results and compare them to the loc[0:5] results you obtained previously. Can you spot the difference?\n\nThe loc method returned rows with index label in the list of values from 0 to 5, which includes 0, 1, 2, 3, 4, and 5 (six rows). However, the iloc method returns the rows in the positions included in the range 0 to 5. Since integer ranges don't include the upper-bound value, this includes positions 0, 1, 2, 3, and 4 (five rows).\n\niloc identifies data values in a DataFrame by position, which extends beyond rows to columns. So, for example, you can use it to find the values for the columns in positions 1 and 2 in row 0, like this:\n",
      "metadata": {}
    },
    {
      "id": "e55b2cb5-04e9-4718-8449-cd345e862863",
      "cell_type": "code",
      "source": "df_students.iloc[0,[1,2]]",
      "metadata": {
        "trusted": true
      },
      "outputs": [],
      "execution_count": null
    },
    {
      "id": "3f5ad9b6-56d6-4719-8c0f-621381f744ea",
      "cell_type": "code",
      "source": "df_students.iloc[0,'Grade']",
      "metadata": {
        "trusted": true
      },
      "outputs": [],
      "execution_count": null
    },
    {
      "id": "45c0ddd0-fbfb-40cf-8288-b227b62246e0",
      "cell_type": "code",
      "source": "df_students.query('Name==\"Aisha\"')",
      "metadata": {
        "trusted": true
      },
      "outputs": [],
      "execution_count": null
    },
    {
      "id": "84b0519f-a4ae-4eff-ab81-bc2bbf641d26",
      "cell_type": "code",
      "source": "df_students[df_students.Name == 'Aisha']",
      "metadata": {
        "trusted": true
      },
      "outputs": [],
      "execution_count": null
    },
    {
      "id": "11d6fbfe-ed57-4d28-a0c4-e8b92ddbb880",
      "cell_type": "markdown",
      "source": "### Loading a DataFrame from a file\n\nWe constructed the DataFrame from some existing arrays. However, in many real-world scenarios, data is loaded from sources such as files. Let's replace the student grades DataFrame with the contents of a text file.\n",
      "metadata": {}
    },
    {
      "id": "21b3364d-d2f9-4520-b1d6-5d2cd99cd647",
      "cell_type": "code",
      "source": "!wget https://raw.githubusercontent.com/MicrosoftDocs/mslearn-introduction-to-machine-learning/main/Data/ml-basics/grades.csv\ndf_students = pd.read_csv('grades.csv',delimiter=',',header='infer')\ndf_students.head() #0-4",
      "metadata": {
        "trusted": true
      },
      "outputs": [],
      "execution_count": null
    },
    {
      "id": "b6eb73a3-f534-4b98-b8b9-4a224e9a01f7",
      "cell_type": "code",
      "source": "df_students.StudyHours = df_students.StudyHours.fillna(df_students.StudyHours.mean())\ndf_students.Grade = df_students.Grade.fillna(df_students.Grade.mean())\ndf_students",
      "metadata": {
        "trusted": true
      },
      "outputs": [],
      "execution_count": null
    },
    {
      "id": "17ee6513-4ac3-412a-9bd9-9d7d43a5b24a",
      "cell_type": "code",
      "source": "df_students = df_students.dropna(axis=0, how='any')\ndf_students",
      "metadata": {
        "trusted": true
      },
      "outputs": [],
      "execution_count": null
    },
    {
      "id": "b0c0851f-9595-45ab-96cc-8b35dc976f20",
      "cell_type": "markdown",
      "source": "### Explore data in the DataFrame\n\nNow that we've cleaned up the missing values, we're ready to explore the data in the DataFrame. Let's start by comparing the mean study hours and grades.",
      "metadata": {}
    },
    {
      "id": "7c5da742-2053-4207-93a6-b6b79013a56c",
      "cell_type": "code",
      "source": "# Get the mean study hours using the column name as an index\nmean_study = df_students['StudyHours'].mean()\n\n# Get the mean grade using the column name as a property (just to make the point!)\nmean_grade = df_students.Grade.mean()\n\n# Print the mean study hours and mean grade\nprint('Average weekly study hours: {:.2f}\\nAverage grade: {:.2f}'.format(mean_study, mean_grade))\n\n# Use @ to reference the local variable in the query\ndf_students.query('StudyHours > @mean_study')",
      "metadata": {
        "trusted": true
      },
      "outputs": [],
      "execution_count": null
    },
    {
      "id": "05877fb7-7950-4216-9f9c-e1f64eb99c05",
      "cell_type": "markdown",
      "source": "#### Explanation:\n\n    The query() method operates in the DataFrame's namespace by default. To access variables from your Python environment, use @variable_name.\n\n    This tells pandas to look for a variable named mean_study in your Python environment rather than looking for a column named \"mean_study\" in the DataFrame.\n\n",
      "metadata": {}
    },
    {
      "id": "625555af-38f0-49a5-bce6-5964da244931",
      "cell_type": "code",
      "source": "# Get students who studied for the mean or more hours\n\nmean_study_students = df_students[df_students.StudyHours > mean_study]\nmean_study_students",
      "metadata": {
        "trusted": true
      },
      "outputs": [],
      "execution_count": null
    },
    {
      "id": "123650c4-6ba4-4b51-9991-aa133c88afc8",
      "cell_type": "code",
      "source": "# What was their mean grade?\nmean_study_students.Grade.mean()",
      "metadata": {
        "trusted": true
      },
      "outputs": [],
      "execution_count": null
    },
    {
      "id": "c69fddaa-5474-4946-ba95-59879e5e48bb",
      "cell_type": "code",
      "source": "passes  = pd.Series(df_students['Grade'] >= 60)\ndf_students = pd.concat([df_students, passes.rename(\"Pass\")], axis=1)\n\ndf_students",
      "metadata": {
        "trusted": true
      },
      "outputs": [],
      "execution_count": null
    },
    {
      "id": "cb4f6f07-39fc-4ebf-875a-bbd10f786470",
      "cell_type": "code",
      "source": "print(df_students.groupby(df_students.Pass).Name.count())",
      "metadata": {
        "trusted": true
      },
      "outputs": [],
      "execution_count": null
    },
    {
      "id": "741231ec-4e23-433b-bfc3-0009e1e317a0",
      "cell_type": "code",
      "source": "print(df_students.groupby(df_students.Pass)[['StudyHours', 'Grade']].mean())",
      "metadata": {
        "trusted": true
      },
      "outputs": [],
      "execution_count": null
    },
    {
      "id": "153f28a7-f48e-4f24-b388-88cbb490be18",
      "cell_type": "code",
      "source": "# Create a DataFrame with the data sorted by Grade (descending)\ndf_students = df_students.sort_values('Grade', ascending=False)\n\n# Show the DataFrame\ndf_students",
      "metadata": {
        "trusted": true
      },
      "outputs": [],
      "execution_count": null
    },
    {
      "id": "f99d98d4-ff65-406d-86f7-2601a5be56b3",
      "cell_type": "markdown",
      "source": "## Summary\n\nNumPy and DataFrames are the workhorses of data science in Python. They provide us ways to load, explore, and analyze tabular data. As we will learn in subsequent modules, even advanced analysis methods typically rely on NumPy and Pandas for these important roles.\n\nIn our next workbook, we'll take a look at how create graphs and explore your data in more interesting ways.",
      "metadata": {}
    }
  ]
}