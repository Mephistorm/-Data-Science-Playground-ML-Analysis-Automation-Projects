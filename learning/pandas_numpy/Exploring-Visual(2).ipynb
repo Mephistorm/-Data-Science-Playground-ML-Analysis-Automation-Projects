{
  "metadata": {
    "kernelspec": {
      "name": "python",
      "display_name": "Python (Pyodide)",
      "language": "python"
    },
    "language_info": {
      "codemirror_mode": {
        "name": "python",
        "version": 3
      },
      "file_extension": ".py",
      "mimetype": "text/x-python",
      "name": "python",
      "nbconvert_exporter": "python",
      "pygments_lexer": "ipython3",
      "version": "3.8"
    }
  },
  "nbformat_minor": 5,
  "nbformat": 4,
  "cells": [
    {
      "id": "c645963d-b0d7-42af-9440-45cef93c882d",
      "cell_type": "markdown",
      "source": "# Exploring data with Python - visualize data\n\nIn this notebook, we'll apply a few techniques to analyze data with basic statistics and visualize it using graphs.\n\n## Loading our data\n\nBefore we begin, let's load the same data about study hours that we analyzed in the previous notebook. We'll also recalculate who passed the class in the same way as last time.\n\nRun the code in the cell below by clicking the **&#9658; Run** button to see the data.",
      "metadata": {}
    },
    {
      "id": "0fd00970-21bf-433a-a70f-161a9d8c0df1",
      "cell_type": "code",
      "source": "import pandas as pd\n\n# Load data from a text file\n!wget https://raw.githubusercontent.com/MicrosoftDocs/mslearn-introduction-to-machine-learning/main/Data/ml-basics/grades.csv\ndf_students = pd.read_csv('grades.csv',delimiter=',',header='infer')\n\n# Remove any rows with missing data\ndf_students = df_students.dropna(axis=0, how='any')\n\n# Calculate who passed, assuming '60' is the grade needed to pass\npasses  = pd.Series(df_students['Grade'] >= 60)\n\n# Save who passed to the Pandas dataframe\ndf_students = pd.concat([df_students, passes.rename(\"Pass\")], axis=1)\n\n\n# Print the result out into this notebook\ndf_students ",
      "metadata": {
        "trusted": true
      },
      "outputs": [],
      "execution_count": null
    },
    {
      "id": "4892ff38-25bd-408d-8681-588f7f3110b0",
      "cell_type": "markdown",
      "source": "## Visualizing data with Matplotlib\n\nDataFrames provide a great way to explore and analyze tabular data, but sometimes a picture is worth a thousand rows and columns. The **Matplotlib** library provides the foundation for plotting data visualizations that can greatly enhance your ability to analyze the data.\n\nLet's start with a simple bar chart that shows the grade of each student.\n\n**Note**: This first graph may take one to two minutes to render. Subsequent graphs will render more quickly.",
      "metadata": {}
    },
    {
      "id": "9c32dc6d-e6d0-4f29-9243-f1cb4f36ee82",
      "cell_type": "code",
      "source": "# Ensure plots are displayed inline in the notebook\n%matplotlib inline\n\nfrom matplotlib import pyplot as plt\n\n# Create a bar plot of name vs grade\nplt.bar(x=df_students.Name, height=df_students.Grade)\n\n# Display the plot\nplt.show()",
      "metadata": {
        "trusted": true
      },
      "outputs": [],
      "execution_count": null
    },
    {
      "id": "01daea00-5c1d-4c90-93df-7699ccc701ce",
      "cell_type": "code",
      "source": "#My version before read:\n\n%matplotlib inline\n\nfrom matplotlib import pyplot as plt\n\nplt.figure(figsize=(10,5))\n\nplt.bar(x=df_students.Name,height=df_students.Grade)\n\nplt.xticks(\n    rotation=45,        # Rotación de 45 grados\n    ha='right',         # Alineación derecha del texto\n    fontsize=9          # Tamaño de fuente reducido\n)\n\nplt.xlabel(\"Students\")\nplt.ylabel(\"Grades\")\nplt.title(\"Student's Grade\")\n\nplt.tight_layout()\nplt.show()",
      "metadata": {
        "trusted": true
      },
      "outputs": [],
      "execution_count": 1
    },
    {
      "id": "165551d9-2c5c-4048-b754-44c6b31aabaf",
      "cell_type": "markdown",
      "source": "Well, that worked, but the chart could use some improvements to make it clearer what we're looking at.\n\nNote that you used the **pyplot** class from Matplotlib to plot the chart. This class provides many ways to improve the visual elements of the plot. For example, the following code:\n\n- Specifies the color of the bar chart.\n- Adds a title to the chart (so we know what it represents)\n- Adds labels to the X and Y axes (so we know which axis shows which data)\n- Adds a grid (to make it easier to determine the values for the bars)\n- Rotates the X markers (so we can read them)",
      "metadata": {}
    },
    {
      "id": "63840d92-c888-4c5b-b7f5-b14b15bd4297",
      "cell_type": "code",
      "source": "#Version of lesson\n\n# Create a bar plot of name vs grade\nplt.bar(x=df_students.Name, height=df_students.Grade, color='orange')\n\n# Customize the chart\nplt.title('Student Grades')\nplt.xlabel('Student')\nplt.ylabel('Grade')\nplt.grid(color='#95a5a6', linestyle='--', linewidth=2, axis='y', alpha=0.7)\nplt.xticks(rotation=90)\n\n# Display the plot\nplt.show()",
      "metadata": {
        "trusted": true
      },
      "outputs": [],
      "execution_count": null
    },
    {
      "id": "4dc0d6c8-8035-43dd-83f2-f9e8d5b38d9f",
      "cell_type": "markdown",
      "source": "A figure can contain multiple subplots, each on its own *axis*.\n\nFor example, the following code creates a figure with two subplots: one is a bar chart showing student grades, and the other is a pie chart comparing the number of passing grades to non-passing grades.",
      "metadata": {}
    },
    {
      "id": "9f17c9db-2d64-4880-b291-71d00d48ac6d",
      "cell_type": "code",
      "source": "# Create a figure for 2 subplots (1 row, 2 columns)\nfig, ax = plt.subplots(1, 3, figsize = (15,5))\n\n# Create a bar plot of name vs grade on the first axis\nax[0].bar(x=df_students.Name, height=df_students.Grade, color='orange')\nax[0].set_title('Grades')\nax[0].set_xticklabels(df_students.Name, rotation=90)\n\n# Create a pie chart of pass counts on the second axis\npass_counts = df_students['Pass'].value_counts()\nax[1].pie(pass_counts, labels=pass_counts)\nax[1].set_title('Passing Grades')\nax[1].legend(pass_counts.keys().tolist())\n\n#Create a bar plot of names vs studies hours \nax[2].bar(x=df_students.Name, height=df_students.StudyHours,color='black')\nax[2].set_title('Hours of studies')\nax[2].set_xticklabels(df_students.Name,rotation=90)\n\n# Add a title to the Figure\nfig.suptitle('Student Data')\n\n# Show the figure\nfig.show()",
      "metadata": {
        "trusted": true
      },
      "outputs": [],
      "execution_count": null
    },
    {
      "id": "7873ff70-2cd8-4b91-85aa-ed0f70d98b9d",
      "cell_type": "markdown",
      "source": "Until now, you've used methods of the `Matplotlib.pyplot` object to plot charts. However, Matplotlib is so foundational to graphics in Python that many packages, including Pandas, provide methods that abstract the underlying Matplotlib functions and simplify plotting. For example, the DataFrame provides its own methods for plotting data as shown in the following example, which plots a bar chart of study hours.",
      "metadata": {}
    },
    {
      "id": "9986173c-0277-4993-8c11-4a403bb032de",
      "cell_type": "code",
      "source": "df_students.plot.bar(x='Name', y='StudyHours', color='teal', figsize=(6,4))",
      "metadata": {
        "trusted": true
      },
      "outputs": [],
      "execution_count": null
    },
    {
      "id": "2321ecff-f3fc-444f-a72e-8d1be5020f7c",
      "cell_type": "code",
      "source": "# Crear figura con 2 filas y 2 columnas\nfig, ax = plt.subplots(2, 2, figsize=(15, 10))  # Tamaño ajustado para 4 gráficos\n\n# --- Primera fila ---\n# Gráfico de barras de calificaciones (fila 0, columna 0)\nax[0, 0].bar(x=df_students.Name, height=df_students.Grade, color='orange')\nax[0, 0].set_title('Grades')\nax[0, 0].set_xticklabels(df_students.Name, rotation=90)\n\n# Gráfico de pastel (fila 0, columna 1)\npass_counts = df_students['Pass'].value_counts()\nax[0, 1].pie(pass_counts, labels=pass_counts.index, autopct='%1.1f%%')\nax[0, 1].set_title('Passing Grades')\nax[0, 1].legend(pass_counts.index.tolist())\n\n# --- Segunda fila ---\n# Gráfico de horas de estudio (fila 1, columna 0)\nax[1, 0].bar(x=df_students.Name, height=df_students.StudyHours, color='black')\nax[1, 0].set_title('Hours of studies')\nax[1, 0].set_xticklabels(df_students.Name, rotation=90)\n\n# Ocultar el cuarto gráfico vacío (fila 1, columna 1)\nax[1, 1].axis('off')\n\n# Título principal y ajustes\nfig.suptitle('Student Data', fontsize=16)\nplt.tight_layout(rect=[0, 0, 1, 0.96])  # Ajuste para espacio del título\nfig.subplots_adjust(hspace=0.3, wspace=0.3)  # Espacio entre subplots\n\nplt.show()",
      "metadata": {
        "trusted": true
      },
      "outputs": [],
      "execution_count": null
    },
    {
      "id": "b1ac49a3-f0ae-4b3c-99bc-fa0b536d488c",
      "cell_type": "markdown",
      "source": "## Getting started with statistical analysis\n\nNow that you know how to use Python to manipulate and visualize data, you can start analyzing it.\n\nA lot of data science is rooted in *statistics*, so we'll explore some basic statistical techniques.\n\n> **Note**: This section is <u>not</u> intended to teach you statistics; that's much too big a topic for this notebook. It will, however, introduce you to some statistical concepts and techniques that data scientists use as they explore data in preparation for machine learning modeling.\n\n### Descriptive statistics and data distribution\n\nWhen examining a *variable* (for example, a sample of student grades), data scientists are particularly interested in its *distribution* (in other words, how all the different grade values are spread across the sample). The starting point for this exploration is often to visualize the data as a histogram and see how frequently each value for the variable occurs.\n",
      "metadata": {}
    },
    {
      "id": "537fcd68-ca56-42a5-9c9d-aa0a4d8cefb2",
      "cell_type": "markdown",
      "source": "The histogram for grades is a symmetric shape, where the most frequently occurring grades tend to be in the middle of the range (around 50), with fewer grades at the extreme ends of the scale.\n\n#### Measures of central tendency\n\nTo understand the distribution better, we can examine so-called *measures of central tendency*, which is a fancy way of describing statistics that represent the \"middle\" of the data. The goal of this analysis is to try to find a \"typical\" value. Common ways to define the middle of the data include:\n\n- The *mean*: A simple average based on adding together all of the values in the sample set and then dividing the total by the number of samples.\n- The *median*: The value in the middle of the range of all of the sample values.\n- The *mode*: The most commonly occurring value in the sample set<sup>\\*</sup>.\n\nLet's calculate these values, along with the minimum and maximum values for comparison, and show them on the histogram.\n\n> <sup>\\*</sup>Of course, in some sample sets, there might be a tie for the most common value. In those cases, the dataset is described as *bimodal* or even *multimodal*.",
      "metadata": {}
    },
    {
      "id": "453c7004-f636-439e-949a-7bd22d8c0fe1",
      "cell_type": "code",
      "source": "# Get the variable to examine\nvar = df_students['Grade']\n\n# Get statistics\nmin_val = var.min()\nmax_val = var.max()\nmean_val = var.mean()\nmed_val = var.median()\nmod_val = var.mode()[0]\n\nprint('Minimum:{:.2f}\\nMean:{:.2f}\\nMedian:{:.2f}\\nMode:{:.2f}\\nMaximum:{:.2f}\\n'.format(min_val,\n                                                                                        mean_val,\n                                                                                        med_val,\n                                                                                        mod_val,\n                                                                                        max_val))\n\n# Create a Figure\nfig = plt.figure(figsize=(10,4))\n\n# Plot a histogram\nplt.hist(var)\n\n# Add lines for the statistics\nplt.axvline(x=min_val, color = 'gray', linestyle='dashed', linewidth = 2)\nplt.axvline(x=mean_val, color = 'cyan', linestyle='dashed', linewidth = 2)\nplt.axvline(x=med_val, color = 'red', linestyle='dashed', linewidth = 2)\nplt.axvline(x=mod_val, color = 'yellow', linestyle='dashed', linewidth = 2)\nplt.axvline(x=max_val, color = 'gray', linestyle='dashed', linewidth = 2)\n\n# Add titles and labels\nplt.title('Data Distribution')\nplt.xlabel('Value')\nplt.ylabel('Frequency')\n\n# Show the figure\nfig.show()",
      "metadata": {
        "trusted": true
      },
      "outputs": [],
      "execution_count": null
    },
    {
      "id": "802869ae-b572-49a2-87e4-ab43ecd1b372",
      "cell_type": "markdown",
      "source": "For learning, it's useful to combine histograms and box plots, with the box plot's orientation changed to align it with the histogram. (In some ways, it's helpful to think of the histogram as a \"front elevation\" view of the distribution, and the box plot as a \"plan\" view of the distribution from above.)",
      "metadata": {}
    },
    {
      "id": "35c80d89-8190-4624-8998-4285a391b5fd",
      "cell_type": "code",
      "source": "# Create a function that we can re-use\ndef show_distribution(var_data):\n    from matplotlib import pyplot as plt\n\n    # Get statistics\n    min_val = var_data.min()\n    max_val = var_data.max()\n    mean_val = var_data.mean()\n    med_val = var_data.median()\n    mod_val = var_data.mode()[0]\n\n    print('Minimum:{:.2f}\\nMean:{:.2f}\\nMedian:{:.2f}\\nMode:{:.2f}\\nMaximum:{:.2f}\\n'.format(min_val,\n                                                                                            mean_val,\n                                                                                            med_val,\n                                                                                            mod_val,\n                                                                                            max_val))\n\n    # Create a figure for 2 subplots (2 rows, 1 column)\n    fig, ax = plt.subplots(2, 1, figsize = (10,4))\n\n    # Plot the histogram   \n    ax[0].hist(var_data)\n    ax[0].set_ylabel('Frequency')\n\n    # Add lines for the mean, median, and mode\n    ax[0].axvline(x=min_val, color = 'gray', linestyle='dashed', linewidth = 2)\n    ax[0].axvline(x=mean_val, color = 'cyan', linestyle='dashed', linewidth = 2)\n    ax[0].axvline(x=med_val, color = 'red', linestyle='dashed', linewidth = 2)\n    ax[0].axvline(x=mod_val, color = 'yellow', linestyle='dashed', linewidth = 2)\n    ax[0].axvline(x=max_val, color = 'gray', linestyle='dashed', linewidth = 2)\n\n    # Plot the boxplot   \n    ax[1].boxplot(var_data, vert=False)\n    ax[1].set_xlabel('Value')\n\n    # Add a title to the Figure\n    fig.suptitle('Data Distribution')\n\n    # Show the figure\n    fig.show()\n\n# Get the variable to examine\ncol = df_students['Grade']\n# Call the function\nshow_distribution(col)",
      "metadata": {
        "trusted": true
      },
      "outputs": [],
      "execution_count": null
    },
    {
      "id": "e2ccea47-e4a9-4507-b6a5-f7dce9956c3c",
      "cell_type": "markdown",
      "source": "All of the measurements of central tendency are right in the middle of the data distribution, which is symmetric with values becoming progressively lower in both directions from the middle.\n\nTo explore this distribution in more detail, you need to understand that statistics is fundamentally about taking *samples* of data and using probability functions to extrapolate information about the full *population* of data.\n\nWhat does this mean? *Samples* refer to the data we have on hand, such as information about these 22 students' study habits and grades. The *population* refers to all possible data we could collect, such as every student's grades and study habits across every educational institution throughout the history of time. Usually, we're interested in the population, but it's simply not practical to collect all of that data. Instead, we need to try estimate what the population is like from the small amount of data (samples) that we have.\n\nIf we have enough samples, we can calculate something called a *probability density function*, which estimates the distribution of grades for the full population.\n\nThe **pyplot** class from Matplotlib provides a helpful plot function to show this density.",
      "metadata": {}
    },
    {
      "id": "e35c42a3-21e5-4e43-b229-86e9a715f228",
      "cell_type": "code",
      "source": "def show_density(var_data):\n    from matplotlib import pyplot as plt\n\n    fig = plt.figure(figsize=(10,4))\n\n    # Plot density\n    var_data.plot.density()\n\n    # Add titles and labels\n    plt.title('Data Density')\n\n    # Show the mean, median, and mode\n    plt.axvline(x=var_data.mean(), color = 'cyan', linestyle='dashed', linewidth = 2)\n    plt.axvline(x=var_data.median(), color = 'red', linestyle='dashed', linewidth = 2)\n    plt.axvline(x=var_data.mode()[0], color = 'yellow', linestyle='dashed', linewidth = 2)\n\n    # Show the figure\n    plt.show()\n\n# Get the density of Grade\ncol = df_students['Grade']\nshow_density(col)",
      "metadata": {
        "trusted": true
      },
      "outputs": [],
      "execution_count": null
    },
    {
      "id": "fafc16f3-4748-4100-b974-baa257ee72ea",
      "cell_type": "code",
      "source": "",
      "metadata": {
        "trusted": true
      },
      "outputs": [],
      "execution_count": null
    },
    {
      "id": "d9fa79dc-d00f-4494-b0f2-050dbf413582",
      "cell_type": "code",
      "source": "",
      "metadata": {
        "trusted": true
      },
      "outputs": [],
      "execution_count": null
    },
    {
      "id": "cbaa32a7-fe9a-4ce8-b8dc-ca789d81e760",
      "cell_type": "code",
      "source": "",
      "metadata": {
        "trusted": true
      },
      "outputs": [],
      "execution_count": null
    },
    {
      "id": "313688b4-820a-4b6c-acb1-8b5ab519a0d7",
      "cell_type": "code",
      "source": "",
      "metadata": {
        "trusted": true
      },
      "outputs": [],
      "execution_count": null
    },
    {
      "id": "6443f373-498b-4702-84d2-e19b8680789f",
      "cell_type": "code",
      "source": "",
      "metadata": {
        "trusted": true
      },
      "outputs": [],
      "execution_count": null
    },
    {
      "id": "257d8761-fb11-4560-a2d5-76ecede91b82",
      "cell_type": "code",
      "source": "",
      "metadata": {
        "trusted": true
      },
      "outputs": [],
      "execution_count": null
    },
    {
      "id": "97918290-ccaf-42f3-a2af-422956d405d7",
      "cell_type": "code",
      "source": "",
      "metadata": {
        "trusted": true
      },
      "outputs": [],
      "execution_count": null
    },
    {
      "id": "5232b6d2-4b1e-44ed-9d53-3b4bc2b3b79b",
      "cell_type": "code",
      "source": "",
      "metadata": {
        "trusted": true
      },
      "outputs": [],
      "execution_count": null
    }
  ]
}